{
 "cells": [
  {
   "cell_type": "code",
   "execution_count": null,
   "metadata": {},
   "outputs": [],
   "source": []
  },
  {
   "cell_type": "code",
   "execution_count": 2,
   "metadata": {},
   "outputs": [
    {
     "name": "stdout",
     "output_type": "stream",
     "text": [
      "('1', '2', '3', '4')\n",
      "('2', '3', '4', '5')\n",
      "('3', '4', '5', '6')\n",
      "('4', '5', '6', '7')\n",
      "('5', '6', '7', '8')\n",
      "('6', '7', '8', '9')\n"
     ]
    }
   ],
   "source": [
    "# Test funciton\n",
    "from itertools import islice\n",
    "\n",
    "l = \"123456789\"\n",
    "\n",
    "for c in zip(l, l[1:], l[2:], l[3:]):\n",
    "    print(c)"
   ]
  },
  {
   "cell_type": "code",
   "execution_count": 6,
   "metadata": {},
   "outputs": [
    {
     "name": "stdout",
     "output_type": "stream",
     "text": [
      "('v', 'w', 'b', 'j')\n",
      "5\n"
     ]
    }
   ],
   "source": [
    "# Try on test_data\n",
    "\n",
    "with open(\"test_data.txt\") as f:\n",
    "    for l in f:\n",
    "        for idx, chars in enumerate(zip(l, l[1:], l[2:], l[3:])):\n",
    "            if len(set(chars)) == 4:\n",
    "                print(chars)\n",
    "                print(idx + 4)\n",
    "                break"
   ]
  },
  {
   "cell_type": "code",
   "execution_count": 7,
   "metadata": {},
   "outputs": [
    {
     "name": "stdout",
     "output_type": "stream",
     "text": [
      "('b', 'd', 'j', 'q')\n",
      "1578\n"
     ]
    }
   ],
   "source": [
    "# Try on test_data\n",
    "\n",
    "with open(\"data.txt\") as f:\n",
    "    for l in f:\n",
    "        for idx, chars in enumerate(zip(l, l[1:], l[2:], l[3:])):\n",
    "            if len(set(chars)) == 4:\n",
    "                print(chars)\n",
    "                print(idx + 4)\n",
    "                break"
   ]
  },
  {
   "cell_type": "code",
   "execution_count": 8,
   "metadata": {},
   "outputs": [
    {
     "name": "stdout",
     "output_type": "stream",
     "text": [
      "('v', 'w', 'b', 'j')\n",
      "5\n"
     ]
    }
   ],
   "source": [
    "# Try on test_data\n",
    "\n",
    "n = 4\n",
    "\n",
    "with open(\"test_data.txt\") as f:\n",
    "    for l in f:\n",
    "        \n",
    "        for idx, chars in enumerate(zip(*[l[i:] for i in range(n)])):\n",
    "            if len(set(chars)) == n:\n",
    "                print(chars)\n",
    "                print(idx + n)\n",
    "                break"
   ]
  },
  {
   "cell_type": "code",
   "execution_count": 9,
   "metadata": {},
   "outputs": [
    {
     "name": "stdout",
     "output_type": "stream",
     "text": [
      "('v', 'b', 'h', 's', 'r', 'l', 'p', 'g', 'd', 'm', 'j', 'q', 'w', 'f')\n",
      "23\n"
     ]
    }
   ],
   "source": [
    "# Try on test_data\n",
    "\n",
    "n = 14\n",
    "\n",
    "with open(\"test_data.txt\") as f:\n",
    "    for l in f:\n",
    "        \n",
    "        for idx, chars in enumerate(zip(*[l[i:] for i in range(n)])):\n",
    "            if len(set(chars)) == n:\n",
    "                print(chars)\n",
    "                print(idx + n)\n",
    "                break"
   ]
  },
  {
   "cell_type": "code",
   "execution_count": 10,
   "metadata": {},
   "outputs": [
    {
     "name": "stdout",
     "output_type": "stream",
     "text": [
      "('m', 'd', 'c', 'b', 'n', 'w', 'q', 'g', 's', 'h', 'p', 'v', 'f', 'j')\n",
      "2178\n"
     ]
    }
   ],
   "source": [
    "# Try on test_data\n",
    "\n",
    "n = 14\n",
    "\n",
    "with open(\"data.txt\") as f:\n",
    "    for l in f:\n",
    "        \n",
    "        for idx, chars in enumerate(zip(*[l[i:] for i in range(n)])):\n",
    "            if len(set(chars)) == n:\n",
    "                print(chars)\n",
    "                print(idx + n)\n",
    "                break"
   ]
  }
 ],
 "metadata": {
  "kernelspec": {
   "display_name": "Python 3.10.7 64-bit",
   "language": "python",
   "name": "python3"
  },
  "language_info": {
   "codemirror_mode": {
    "name": "ipython",
    "version": 3
   },
   "file_extension": ".py",
   "mimetype": "text/x-python",
   "name": "python",
   "nbconvert_exporter": "python",
   "pygments_lexer": "ipython3",
   "version": "3.10.7"
  },
  "orig_nbformat": 4,
  "vscode": {
   "interpreter": {
    "hash": "26de051ba29f2982a8de78e945f0abaf191376122a1563185a90213a26c5da77"
   }
  }
 },
 "nbformat": 4,
 "nbformat_minor": 2
}
