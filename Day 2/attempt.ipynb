{
 "cells": [
  {
   "cell_type": "code",
   "execution_count": 8,
   "metadata": {},
   "outputs": [],
   "source": [
    "# Map opp vs you to win/loss/draw\n",
    "outcome_dict = {\n",
    "    \"A\" : {\"X\" : 3, \"Y\" : 6, \"Z\" : 0},\n",
    "    \"B\" : {\"X\" : 0, \"Y\" : 3, \"Z\" : 6},\n",
    "    \"C\" : {\"X\" : 6, \"Y\" : 0, \"Z\" : 3},\n",
    "}\n",
    "\n",
    "choice_bonus = {\"X\" : 1, \"Y\" : 2, \"Z\" : 3}\n",
    "\n",
    "# Function to calculate score given opponent and your choice\n",
    "def score_round(opp, you):\n",
    "    \"\"\"\n",
    "    opp: A,B,C representing your opponent choice\n",
    "    you: X,Y,Z representing your choice\n",
    "\n",
    "    Meanings and Points\n",
    "\n",
    "    Char    choice      points\n",
    "    A/X     rock        1\n",
    "    B/Y     paper       2\n",
    "    C/Z     scissors    3\n",
    "\n",
    "    Points for:\n",
    "    loss    0\n",
    "    draw    3\n",
    "    win     6   \n",
    "    \"\"\"\n",
    "    score = outcome_dict[opp][you] + choice_bonus[you]\n",
    "    return score\n",
    "\n"
   ]
  },
  {
   "cell_type": "code",
   "execution_count": 11,
   "metadata": {},
   "outputs": [
    {
     "data": {
      "text/plain": [
       "9177"
      ]
     },
     "execution_count": 11,
     "metadata": {},
     "output_type": "execute_result"
    }
   ],
   "source": [
    "score = 0\n",
    "\n",
    "with open(\"data.txt\") as f:\n",
    "    for line in f:\n",
    "        score += score_round(*line.split())\n",
    "\n",
    "score"
   ]
  },
  {
   "cell_type": "code",
   "execution_count": 15,
   "metadata": {},
   "outputs": [
    {
     "data": {
      "text/plain": [
       "12111"
      ]
     },
     "execution_count": 15,
     "metadata": {},
     "output_type": "execute_result"
    }
   ],
   "source": [
    "# PART 2\n",
    "\n",
    "\"\"\"\n",
    "X - Lose\n",
    "Y - Draw\n",
    "Z - Win\n",
    "\n",
    "                X - Lose        Y - Draw        Z - Win\n",
    "A - Rock        Scissors        Rock            Paper\n",
    "B - Paper       Rock            Paper           Scissors\n",
    "C - Scissors    Paper           Scissors        Rock\n",
    "\n",
    "Choice bonus: \n",
    "Rock        1\n",
    "Paper       2\n",
    "Scissors    3\n",
    "\"\"\"\n",
    "\n",
    "outcome_dict_2 = {\n",
    "    \"A\" : {\"X\" : 0 + 3, \"Y\" : 3 + 1, \"Z\" : 6 + 2},\n",
    "    \"B\" : {\"X\" : 0 + 1, \"Y\" : 3 + 2, \"Z\" : 6 + 3},\n",
    "    \"C\" : {\"X\" : 0 + 2, \"Y\" : 3 + 3, \"Z\" : 6 + 1},\n",
    "}\n",
    "\n",
    "score = 0\n",
    "\n",
    "with open(\"data.txt\") as f:\n",
    "    for line in f:\n",
    "        opp, you = line.split()\n",
    "        score += outcome_dict_2[opp][you]\n",
    "\n",
    "score\n",
    "    \n"
   ]
  }
 ],
 "metadata": {
  "kernelspec": {
   "display_name": "Python 3.10.7 64-bit",
   "language": "python",
   "name": "python3"
  },
  "language_info": {
   "codemirror_mode": {
    "name": "ipython",
    "version": 3
   },
   "file_extension": ".py",
   "mimetype": "text/x-python",
   "name": "python",
   "nbconvert_exporter": "python",
   "pygments_lexer": "ipython3",
   "version": "3.10.7"
  },
  "orig_nbformat": 4,
  "vscode": {
   "interpreter": {
    "hash": "26de051ba29f2982a8de78e945f0abaf191376122a1563185a90213a26c5da77"
   }
  }
 },
 "nbformat": 4,
 "nbformat_minor": 2
}
