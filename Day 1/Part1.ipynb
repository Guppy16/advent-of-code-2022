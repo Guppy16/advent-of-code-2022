{
 "cells": [
  {
   "cell_type": "code",
   "execution_count": 12,
   "metadata": {},
   "outputs": [
    {
     "name": "stdout",
     "output_type": "stream",
     "text": [
      "70296\n"
     ]
    }
   ],
   "source": [
    "with open('data1.txt') as f:\n",
    "    max_total = 0\n",
    "    temp_total = 0\n",
    "    for line in f:\n",
    "        l = line.strip()\n",
    "        if l == \"\":\n",
    "            max_total = max(max_total, temp_total)\n",
    "            temp_total = 0\n",
    "        else:\n",
    "            temp_total += int(l)\n",
    "    \n",
    "print(max_total)\n",
    "            "
   ]
  },
  {
   "cell_type": "code",
   "execution_count": 24,
   "metadata": {},
   "outputs": [
    {
     "name": "stdout",
     "output_type": "stream",
     "text": [
      "[66378, 68707, 70296]\n",
      "205381\n"
     ]
    }
   ],
   "source": [
    "## PART 2\n",
    "n = 3 # To find top 3 most calories\n",
    "totals = []\n",
    "\n",
    "with open('data1.txt') as f:\n",
    "    temp_total = 0\n",
    "    for line in f:\n",
    "        l = line.strip()\n",
    "        # New elf\n",
    "        if l == \"\":\n",
    "            totals.append(temp_total)\n",
    "            temp_total = 0\n",
    "        else:\n",
    "            temp_total += int(l)\n",
    "\n",
    "totals = sorted(totals)\n",
    "print(totals[-3:])\n",
    "print(sum(totals[-3:]))"
   ]
  }
 ],
 "metadata": {
  "kernelspec": {
   "display_name": "Python 3.10.7 64-bit",
   "language": "python",
   "name": "python3"
  },
  "language_info": {
   "codemirror_mode": {
    "name": "ipython",
    "version": 3
   },
   "file_extension": ".py",
   "mimetype": "text/x-python",
   "name": "python",
   "nbconvert_exporter": "python",
   "pygments_lexer": "ipython3",
   "version": "3.10.7"
  },
  "orig_nbformat": 4,
  "vscode": {
   "interpreter": {
    "hash": "26de051ba29f2982a8de78e945f0abaf191376122a1563185a90213a26c5da77"
   }
  }
 },
 "nbformat": 4,
 "nbformat_minor": 2
}
