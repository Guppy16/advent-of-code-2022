{
 "cells": [
  {
   "cell_type": "code",
   "execution_count": 13,
   "metadata": {},
   "outputs": [],
   "source": [
    "# imports\n",
    "import re"
   ]
  },
  {
   "cell_type": "code",
   "execution_count": 12,
   "metadata": {},
   "outputs": [
    {
     "name": "stdout",
     "output_type": "stream",
     "text": [
      "'[N] [C]    \\n'\n",
      "12\n",
      "[('[', 'N', ']', ' '), ('[', 'C', ']', ' '), (' ', ' ', ' ', '\\n')]\n",
      "['N', 'C', ' ']\n",
      "[Z] [M] [P]\n",
      "\n",
      " 1   2   3 \n",
      "\n"
     ]
    }
   ],
   "source": [
    "# Test code\n",
    "with open(\"test_data.txt\") as f:\n",
    "    l = f.readline()\n",
    "    l = f.readline()\n",
    "\n",
    "    print(l.__repr__())\n",
    "\n",
    "    print(len(l))\n",
    "\n",
    "    print(list(zip(*[iter(l)] * 4)))\n",
    "\n",
    "    print(list(l[1::4]))\n",
    "\n",
    "    # for c in l:\n",
    "    #     print(c.__repr__())\n",
    "\n",
    "    for l in f:\n",
    "        if l == \"\\n\":\n",
    "            break\n",
    "        print(l)"
   ]
  },
  {
   "cell_type": "code",
   "execution_count": 11,
   "metadata": {},
   "outputs": [],
   "source": [
    "def parse_line_to_crates(line: str):\n",
    "    \"\"\"\n",
    "    Returns list of crates from line\n",
    "\n",
    "    e.g. '[N] [C]    \\n'\n",
    "\n",
    "    \"\"\"\n",
    "    # Check if multiple of 4\n",
    "    assert len(line) % 4 == 0\n",
    "\n",
    "    # iterate through line in 4 chars each\n",
    "    return list(line[1::4])"
   ]
  },
  {
   "cell_type": "code",
   "execution_count": 31,
   "metadata": {},
   "outputs": [
    {
     "name": "stdout",
     "output_type": "stream",
     "text": [
      "[('Z', 'N', ' '), ('M', 'C', 'D'), ('P', ' ', ' ')]\n",
      "3\n",
      "[['Z', 'N'], ['M', 'C', 'D'], ['P']]\n",
      "[['C'], ['M'], ['P', 'D', 'N', 'Z']]\n",
      "['C', 'M', 'Z']\n"
     ]
    }
   ],
   "source": [
    "# Create a list of crates\n",
    "\n",
    "crates = []\n",
    "\n",
    "with open(\"test_data.txt\") as f:\n",
    "\n",
    "    ### Create crates list\n",
    "\n",
    "    for line in f:\n",
    "        if bool(re.search(r'\\d', line)):\n",
    "            break\n",
    "\n",
    "        crates.append(line[1::4])\n",
    "\n",
    "    # Rotate list\n",
    "    crates = list(zip(*reversed(crates)))\n",
    "\n",
    "    print(crates)\n",
    "    print(len(crates))\n",
    "\n",
    "    # Remove whitespace from crates\n",
    "    crates = [[c for c in crate if c != ' '] for crate in crates]\n",
    "\n",
    "    print(crates)\n",
    "\n",
    "    ### Manipulate crates\n",
    "\n",
    "    l = f.readline()\n",
    "\n",
    "    for l in f:\n",
    "\n",
    "    # l = f.readline()\n",
    "        move_num, from_crate, to_crate = (int(i) for i in l.split()[1::2])\n",
    "        while move_num > 0:\n",
    "            crates[to_crate - 1].append(crates[from_crate - 1].pop())\n",
    "            move_num -= 1\n",
    "\n",
    "\n",
    "print(crates)\n",
    "print([crate[-1] for crate in crates])"
   ]
  },
  {
   "cell_type": "code",
   "execution_count": 33,
   "metadata": {},
   "outputs": [
    {
     "name": "stdout",
     "output_type": "stream",
     "text": [
      "[('H', 'B', 'V', 'W', 'N', 'M', 'L', 'P'), ('M', 'Q', 'H', ' ', ' ', ' ', ' ', ' '), ('N', 'D', 'B', 'G', 'F', 'Q', 'M', 'L'), ('Z', 'T', 'F', 'Q', 'M', 'W', 'G', ' '), ('M', 'T', 'H', 'P', ' ', ' ', ' ', ' '), ('C', 'B', 'M', 'J', 'D', 'H', 'G', 'T'), ('M', 'N', 'B', 'F', 'V', 'R', ' ', ' '), ('P', 'L', 'H', 'M', 'R', 'G', 'S', ' '), ('P', 'D', 'B', 'C', 'N', ' ', ' ', ' ')]\n",
      "9\n",
      "[['H', 'B', 'V', 'W', 'N', 'M', 'L', 'P'], ['M', 'Q', 'H'], ['N', 'D', 'B', 'G', 'F', 'Q', 'M', 'L'], ['Z', 'T', 'F', 'Q', 'M', 'W', 'G'], ['M', 'T', 'H', 'P'], ['C', 'B', 'M', 'J', 'D', 'H', 'G', 'T'], ['M', 'N', 'B', 'F', 'V', 'R'], ['P', 'L', 'H', 'M', 'R', 'G', 'S'], ['P', 'D', 'B', 'C', 'N']]\n",
      "[['B', 'Q', 'N', 'Q', 'W'], ['V', 'F', 'Q', 'M', 'F', 'G', 'H'], ['T'], ['L'], ['C', 'N', 'P', 'J', 'B', 'P', 'G', 'H', 'M', 'B', 'M', 'H', 'M', 'T', 'S', 'H', 'P', 'M', 'T', 'B', 'M', 'F', 'G', 'W', 'N', 'P', 'R'], ['M', 'M'], ['L', 'B', 'D', 'N', 'H', 'Z'], ['G', 'D', 'L', 'R'], ['D', 'V', 'C']]\n",
      "WHTLRMZRC\n"
     ]
    }
   ],
   "source": [
    "# Create a list of crates\n",
    "\n",
    "crates = []\n",
    "\n",
    "with open(\"data.txt\") as f:\n",
    "\n",
    "    ### Create crates list\n",
    "\n",
    "    for line in f:\n",
    "        if bool(re.search(r'\\d', line)):\n",
    "            break\n",
    "\n",
    "        crates.append(line[1::4])\n",
    "\n",
    "    # Rotate list\n",
    "    crates = list(zip(*reversed(crates)))\n",
    "\n",
    "    print(crates)\n",
    "    print(len(crates))\n",
    "\n",
    "    # Remove whitespace from crates\n",
    "    crates = [[c for c in crate if c != ' '] for crate in crates]\n",
    "\n",
    "    print(crates)\n",
    "\n",
    "    ### Manipulate crates\n",
    "\n",
    "    l = f.readline()\n",
    "\n",
    "    for l in f:\n",
    "\n",
    "    # l = f.readline()\n",
    "        move_num, from_crate, to_crate = (int(i) for i in l.split()[1::2])\n",
    "        while move_num > 0:\n",
    "            crates[to_crate - 1].append(crates[from_crate - 1].pop())\n",
    "            move_num -= 1\n",
    "\n",
    "\n",
    "print(crates)\n",
    "print(''.join([crate[-1] for crate in crates]))"
   ]
  },
  {
   "cell_type": "markdown",
   "metadata": {},
   "source": [
    "## Part 2"
   ]
  },
  {
   "cell_type": "code",
   "execution_count": 34,
   "metadata": {},
   "outputs": [
    {
     "name": "stdout",
     "output_type": "stream",
     "text": [
      "[('Z', 'N', ' '), ('M', 'C', 'D'), ('P', ' ', ' ')]\n",
      "3\n",
      "[['Z', 'N'], ['M', 'C', 'D'], ['P']]\n",
      "[['M'], ['C'], ['P', 'Z', 'N', 'D']]\n",
      "MCD\n"
     ]
    }
   ],
   "source": [
    "# Create a list of crates\n",
    "\n",
    "crates = []\n",
    "\n",
    "with open(\"test_data.txt\") as f:\n",
    "\n",
    "    ### Create crates list\n",
    "\n",
    "    for line in f:\n",
    "        if bool(re.search(r'\\d', line)):\n",
    "            break\n",
    "\n",
    "        crates.append(line[1::4])\n",
    "\n",
    "    # Rotate list\n",
    "    crates = list(zip(*reversed(crates)))\n",
    "\n",
    "    print(crates)\n",
    "    print(len(crates))\n",
    "\n",
    "    # Remove whitespace from crates\n",
    "    crates = [[c for c in crate if c != ' '] for crate in crates]\n",
    "\n",
    "    print(crates)\n",
    "\n",
    "    ### Manipulate crates\n",
    "\n",
    "    l = f.readline()\n",
    "\n",
    "    for l in f:\n",
    "\n",
    "    # l = f.readline()\n",
    "        move_num, from_crate, to_crate = (int(i) for i in l.split()[1::2])\n",
    "\n",
    "        moving_crates = [crates[from_crate - 1].pop() for _ in range(move_num)]\n",
    "        crates[to_crate - 1] += reversed(moving_crates)\n",
    "\n",
    "        # while move_num > 0:\n",
    "        #     crates[to_crate - 1].append(crates[from_crate - 1].pop())\n",
    "        #     move_num -= 1\n",
    "\n",
    "\n",
    "print(crates)\n",
    "print(''.join([crate[-1] for crate in crates]))"
   ]
  },
  {
   "cell_type": "code",
   "execution_count": 35,
   "metadata": {},
   "outputs": [
    {
     "name": "stdout",
     "output_type": "stream",
     "text": [
      "[('H', 'B', 'V', 'W', 'N', 'M', 'L', 'P'), ('M', 'Q', 'H', ' ', ' ', ' ', ' ', ' '), ('N', 'D', 'B', 'G', 'F', 'Q', 'M', 'L'), ('Z', 'T', 'F', 'Q', 'M', 'W', 'G', ' '), ('M', 'T', 'H', 'P', ' ', ' ', ' ', ' '), ('C', 'B', 'M', 'J', 'D', 'H', 'G', 'T'), ('M', 'N', 'B', 'F', 'V', 'R', ' ', ' '), ('P', 'L', 'H', 'M', 'R', 'G', 'S', ' '), ('P', 'D', 'B', 'C', 'N', ' ', ' ', ' ')]\n",
      "9\n",
      "[['H', 'B', 'V', 'W', 'N', 'M', 'L', 'P'], ['M', 'Q', 'H'], ['N', 'D', 'B', 'G', 'F', 'Q', 'M', 'L'], ['Z', 'T', 'F', 'Q', 'M', 'W', 'G'], ['M', 'T', 'H', 'P'], ['C', 'B', 'M', 'J', 'D', 'H', 'G', 'T'], ['M', 'N', 'B', 'F', 'V', 'R'], ['P', 'L', 'H', 'M', 'R', 'G', 'S'], ['P', 'D', 'B', 'C', 'N']]\n",
      "[['V', 'M', 'P', 'C', 'G'], ['N', 'N', 'B', 'H', 'S', 'D', 'M'], ['P'], ['M'], ['P', 'G', 'P', 'L', 'T', 'M', 'J', 'H', 'B', 'B', 'N', 'W', 'B', 'Q', 'R', 'B', 'Q', 'D', 'M', 'F', 'H', 'V', 'H', 'F', 'C', 'F', 'L'], ['H', 'W'], ['L', 'Q', 'T', 'R', 'Z', 'N'], ['T', 'M', 'D', 'M'], ['M', 'G', 'G']]\n",
      "GMPMLWNMG\n"
     ]
    }
   ],
   "source": [
    "# Create a list of crates\n",
    "\n",
    "crates = []\n",
    "\n",
    "with open(\"data.txt\") as f:\n",
    "\n",
    "    ### Create crates list\n",
    "\n",
    "    for line in f:\n",
    "        if bool(re.search(r'\\d', line)):\n",
    "            break\n",
    "\n",
    "        crates.append(line[1::4])\n",
    "\n",
    "    # Rotate list\n",
    "    crates = list(zip(*reversed(crates)))\n",
    "\n",
    "    print(crates)\n",
    "    print(len(crates))\n",
    "\n",
    "    # Remove whitespace from crates\n",
    "    crates = [[c for c in crate if c != ' '] for crate in crates]\n",
    "\n",
    "    print(crates)\n",
    "\n",
    "    ### Manipulate crates\n",
    "\n",
    "    l = f.readline()\n",
    "\n",
    "    for l in f:\n",
    "\n",
    "    # l = f.readline()\n",
    "        move_num, from_crate, to_crate = (int(i) for i in l.split()[1::2])\n",
    "\n",
    "        moving_crates = [crates[from_crate - 1].pop() for _ in range(move_num)]\n",
    "        crates[to_crate - 1] += reversed(moving_crates)\n",
    "\n",
    "        # while move_num > 0:\n",
    "        #     crates[to_crate - 1].append(crates[from_crate - 1].pop())\n",
    "        #     move_num -= 1\n",
    "\n",
    "\n",
    "print(crates)\n",
    "print(''.join([crate[-1] for crate in crates]))"
   ]
  }
 ],
 "metadata": {
  "kernelspec": {
   "display_name": "Python 3.10.7 64-bit",
   "language": "python",
   "name": "python3"
  },
  "language_info": {
   "codemirror_mode": {
    "name": "ipython",
    "version": 3
   },
   "file_extension": ".py",
   "mimetype": "text/x-python",
   "name": "python",
   "nbconvert_exporter": "python",
   "pygments_lexer": "ipython3",
   "version": "3.10.7"
  },
  "orig_nbformat": 4,
  "vscode": {
   "interpreter": {
    "hash": "26de051ba29f2982a8de78e945f0abaf191376122a1563185a90213a26c5da77"
   }
  }
 },
 "nbformat": 4,
 "nbformat_minor": 2
}
