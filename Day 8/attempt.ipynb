{
 "cells": [
  {
   "cell_type": "code",
   "execution_count": 10,
   "metadata": {},
   "outputs": [],
   "source": [
    "import numpy as np"
   ]
  },
  {
   "cell_type": "code",
   "execution_count": 17,
   "metadata": {},
   "outputs": [
    {
     "name": "stdout",
     "output_type": "stream",
     "text": [
      "[[3 0]\n",
      " [0 0]\n",
      " [3 0]\n",
      " [7 0]\n",
      " [3 0]]\n",
      "[[3 1]\n",
      " [0 0]\n",
      " [3 0]\n",
      " [7 1]\n",
      " [3 0]]\n"
     ]
    }
   ],
   "source": [
    "def search_row(row):\n",
    "    \"\"\"Returns a list of indexes of the visible trees\n",
    "    \n",
    "    visibility in a row is defined as so:\n",
    "    if all trees up to that tree from an edge are smaller than the tree\n",
    "    \"\"\"\n",
    "\n",
    "    max_h = -1\n",
    "    for idx in range(len(row)):\n",
    "        h = row[idx][0]\n",
    "        if h > max_h:\n",
    "            row[idx][1] = 1\n",
    "            max_h = h\n",
    "\n",
    "# Test function with first row\n",
    "\n",
    "# NOTE: each element is: [height, is_visible]\n",
    "line = np.array([[int(c), 0] for c in open(\"test_data.txt\").readline().strip()])\n",
    "print(line)\n",
    "\n",
    "search_row(line)\n",
    "print(line)"
   ]
  },
  {
   "cell_type": "code",
   "execution_count": 74,
   "metadata": {},
   "outputs": [
    {
     "name": "stdout",
     "output_type": "stream",
     "text": [
      "[[3, 0], [0, 0], [3, 0], [7, 0], [3, 0]]\n",
      "[[2, 0], [5, 0], [5, 0], [1, 0], [2, 0]]\n",
      "[[6, 0], [5, 0], [3, 0], [3, 0], [2, 0]]\n",
      "[[3, 0], [3, 0], [5, 0], [4, 0], [9, 0]]\n",
      "[[3, 0], [5, 0], [3, 0], [9, 0], [0, 0]]\n"
     ]
    },
    {
     "data": {
      "text/plain": [
       "[None, None, None, None, None]"
      ]
     },
     "execution_count": 74,
     "metadata": {},
     "output_type": "execute_result"
    }
   ],
   "source": [
    "# Parse data to array\n",
    "forest = [[[int(h), 0] for h in line.strip()] for line in open(\"test_data.txt\")]\n",
    "[print(row) for row in forest]"
   ]
  },
  {
   "cell_type": "code",
   "execution_count": 75,
   "metadata": {},
   "outputs": [
    {
     "data": {
      "text/plain": [
       "[[[3, 1], [0, 1], [3, 1], [7, 1], [3, 1]],\n",
       " [[2, 1], [5, 1], [5, 1], [1, 0], [2, 1]],\n",
       " [[6, 1], [5, 1], [3, 0], [3, 1], [2, 1]],\n",
       " [[3, 1], [3, 0], [5, 1], [4, 0], [9, 1]],\n",
       " [[3, 1], [5, 1], [3, 1], [9, 1], [0, 1]]]"
      ]
     },
     "execution_count": 75,
     "metadata": {},
     "output_type": "execute_result"
    }
   ],
   "source": [
    "# Loop over row, col and reversed for each\n",
    "# Also keep track of indeces\n",
    "\n",
    "def find_visible(trees):\n",
    "    # Check each row\n",
    "    [search_row(row) for row in trees]  \n",
    "\n",
    "    # Check reversed row\n",
    "    [search_row(row[::-1]) for row in trees]\n",
    "\n",
    "    # Flip list\n",
    "    trees = list(zip(*trees))\n",
    "\n",
    "    [search_row(row) for row in trees]\n",
    "    [search_row(row[::-1]) for row in trees]\n",
    "\n",
    "find_visible(forest)\n",
    "forest"
   ]
  },
  {
   "cell_type": "code",
   "execution_count": 76,
   "metadata": {},
   "outputs": [
    {
     "data": {
      "text/plain": [
       "21"
      ]
     },
     "execution_count": 76,
     "metadata": {},
     "output_type": "execute_result"
    }
   ],
   "source": [
    "sum([sum([t[1] for t in row]) for row in forest])"
   ]
  },
  {
   "cell_type": "code",
   "execution_count": 92,
   "metadata": {},
   "outputs": [
    {
     "name": "stdout",
     "output_type": "stream",
     "text": [
      "5 5\n",
      "1\n",
      "1 1\n",
      "4\n",
      "1 2\n",
      "6\n",
      "2 1\n",
      "8\n",
      "3 2\n",
      "8\n"
     ]
    }
   ],
   "source": [
    "# Part 2\n",
    "\n",
    "# For each tree that was visible from the edge:\n",
    "# Find the idx of the tree\n",
    "\n",
    "col_len = len(forest)\n",
    "row_len = len(forest[0])\n",
    "\n",
    "print(col_len, row_len)\n",
    "\n",
    "max_score = 0\n",
    "\n",
    "for r, row in enumerate(forest):\n",
    "    for c, t in enumerate(row):\n",
    "        # Check if it's on an edge\n",
    "        if r == 0 or r == row_len - 1 or c == 0 or c == col_len - 1:\n",
    "            continue\n",
    "        \n",
    "        # Keep track of sight score\n",
    "        score = 1\n",
    "\n",
    "        # Iterate until hit edge ot tree with h >= t[0]\n",
    "\n",
    "        # Go left\n",
    "        left = 1\n",
    "        for i in reversed(range(c)):\n",
    "            if i == 0 or i == col_len - 1 or forest[r][i][0] >= t[0]:\n",
    "                break\n",
    "            else:\n",
    "                left += 1\n",
    "\n",
    "        # Go right\n",
    "        right = 1\n",
    "        for i in range(c + 1, col_len):\n",
    "            if i == 0 or i == col_len - 1 or forest[r][i][0] >= t[0]:\n",
    "                break\n",
    "            else:\n",
    "                right += 1\n",
    "\n",
    "        # Go up\n",
    "        up = 1\n",
    "        for i in reversed(range(r)):\n",
    "            if i == 0 or i == row_len - 1 or forest[i][c][0] >= t[0]:\n",
    "                break\n",
    "            else:\n",
    "                up += 1\n",
    "\n",
    "        # Go down\n",
    "        down = 1\n",
    "        for i in range(r + 1, row_len):\n",
    "            if i == 0 or i == row_len - 1 or forest[i][c][0] >= t[0]:\n",
    "                break\n",
    "            else:\n",
    "                down += 1\n",
    "        \n",
    "        score = left * right * up * down\n",
    "        if score > max_score:\n",
    "            max_score = score\n",
    "            print(score)\n",
    "            print(r, c)\n",
    "\n",
    "print(max_score)\n"
   ]
  },
  {
   "cell_type": "code",
   "execution_count": 82,
   "metadata": {},
   "outputs": [],
   "source": [
    "for i in range(0):\n",
    "    print(i)"
   ]
  },
  {
   "cell_type": "code",
   "execution_count": 69,
   "metadata": {},
   "outputs": [],
   "source": [
    "# Do this for DATA"
   ]
  },
  {
   "cell_type": "code",
   "execution_count": 93,
   "metadata": {},
   "outputs": [
    {
     "data": {
      "text/plain": [
       "1684"
      ]
     },
     "execution_count": 93,
     "metadata": {},
     "output_type": "execute_result"
    }
   ],
   "source": [
    "# Parse data to array\n",
    "forest = [[[int(h), 0] for h in line.strip()] for line in open(\"data.txt\")]\n",
    "# [print(row) for row in forest]\n",
    "\n",
    "find_visible(forest)\n",
    "# forest\n",
    "\n",
    "sum([sum([t[1] for t in row]) for row in forest])"
   ]
  },
  {
   "cell_type": "code",
   "execution_count": 95,
   "metadata": {},
   "outputs": [
    {
     "name": "stdout",
     "output_type": "stream",
     "text": [
      "99 99\n",
      "1\n",
      "1 1\n",
      "5\n",
      "1 2\n",
      "24\n",
      "1 7\n",
      "90\n",
      "1 10\n",
      "1440\n",
      "1 36\n",
      "4784\n",
      "1 46\n",
      "6240\n",
      "3 20\n",
      "7812\n",
      "4 67\n",
      "13888\n",
      "7 31\n",
      "43008\n",
      "8 74\n",
      "198450\n",
      "9 63\n",
      "486540\n",
      "45 17\n",
      "486540\n"
     ]
    }
   ],
   "source": [
    "# Part 2\n",
    "\n",
    "# Part 2\n",
    "\n",
    "# For each tree that was visible from the edge:\n",
    "# Find the idx of the tree\n",
    "\n",
    "col_len = len(forest)\n",
    "row_len = len(forest[0])\n",
    "\n",
    "print(col_len, row_len)\n",
    "\n",
    "max_score = 0\n",
    "\n",
    "for r, row in enumerate(forest):\n",
    "    for c, t in enumerate(row):\n",
    "        # Check if it's on an edge\n",
    "        if r == 0 or r == row_len - 1 or c == 0 or c == col_len - 1:\n",
    "            continue\n",
    "        \n",
    "        # Keep track of sight score\n",
    "        score = 1\n",
    "\n",
    "        # Iterate until hit edge ot tree with h >= t[0]\n",
    "\n",
    "        # Go left\n",
    "        left = 1\n",
    "        for i in reversed(range(c)):\n",
    "            if i == 0 or i == col_len - 1 or forest[r][i][0] >= t[0]:\n",
    "                break\n",
    "            else:\n",
    "                left += 1\n",
    "\n",
    "        # Go right\n",
    "        right = 1\n",
    "        for i in range(c + 1, col_len):\n",
    "            if i == 0 or i == col_len - 1 or forest[r][i][0] >= t[0]:\n",
    "                break\n",
    "            else:\n",
    "                right += 1\n",
    "\n",
    "        # Go up\n",
    "        up = 1\n",
    "        for i in reversed(range(r)):\n",
    "            if i == 0 or i == row_len - 1 or forest[i][c][0] >= t[0]:\n",
    "                break\n",
    "            else:\n",
    "                up += 1\n",
    "\n",
    "        # Go down\n",
    "        down = 1\n",
    "        for i in range(r + 1, row_len):\n",
    "            if i == 0 or i == row_len - 1 or forest[i][c][0] >= t[0]:\n",
    "                break\n",
    "            else:\n",
    "                down += 1\n",
    "        \n",
    "        score = left * right * up * down\n",
    "        if score > max_score:\n",
    "            max_score = score\n",
    "            print(score)\n",
    "            print(r, c)\n",
    "\n",
    "print(max_score)\n"
   ]
  },
  {
   "cell_type": "code",
   "execution_count": null,
   "metadata": {},
   "outputs": [],
   "source": []
  }
 ],
 "metadata": {
  "kernelspec": {
   "display_name": "Python 3.10.7 64-bit",
   "language": "python",
   "name": "python3"
  },
  "language_info": {
   "codemirror_mode": {
    "name": "ipython",
    "version": 3
   },
   "file_extension": ".py",
   "mimetype": "text/x-python",
   "name": "python",
   "nbconvert_exporter": "python",
   "pygments_lexer": "ipython3",
   "version": "3.10.7"
  },
  "orig_nbformat": 4,
  "vscode": {
   "interpreter": {
    "hash": "26de051ba29f2982a8de78e945f0abaf191376122a1563185a90213a26c5da77"
   }
  }
 },
 "nbformat": 4,
 "nbformat_minor": 2
}
