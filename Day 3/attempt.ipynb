{
 "cells": [
  {
   "cell_type": "code",
   "execution_count": 32,
   "metadata": {},
   "outputs": [
    {
     "data": {
      "text/plain": [
       "8139"
      ]
     },
     "execution_count": 32,
     "metadata": {},
     "output_type": "execute_result"
    }
   ],
   "source": [
    "# PART 1\n",
    "\n",
    "# Priority of character\n",
    "priority_total = 0\n",
    "\n",
    "with open(\"data.txt\") as f:\n",
    "    for line in f:\n",
    "        l = line.strip()\n",
    "        \n",
    "        # Split in half\n",
    "        l_mid = len(l) // 2\n",
    "        c1 = l[:l_mid]\n",
    "        c2 = l[l_mid:]\n",
    "        assert len(c1) == len(c2)\n",
    "\n",
    "        # Find intersection of set\n",
    "        item = set.intersection(set(c1), set(c2))\n",
    "        assert len(item) == 1\n",
    "        item = item.pop()\n",
    "\n",
    "        # Calculate priotrity\n",
    "        # Determine if lowercase\n",
    "        priority_total += ord(item) - ord(\"a\") + 1 if item.islower() else ord(item) - ord(\"A\") + 27\n",
    "\n",
    "priority_total"
   ]
  },
  {
   "cell_type": "code",
   "execution_count": 60,
   "metadata": {},
   "outputs": [
    {
     "data": {
      "text/plain": [
       "2668"
      ]
     },
     "execution_count": 60,
     "metadata": {},
     "output_type": "execute_result"
    }
   ],
   "source": [
    "# Part 2\n",
    "\n",
    "priority_total = 0\n",
    "n = 3\n",
    "\n",
    "with open(\"data.txt\") as f:\n",
    "    # Iterate through every 3 lines\n",
    "    # NOTE: This iteration method is very smart! (see next cell for some deciphering)\n",
    "    for lines in zip(*[iter(f)] * n):\n",
    "\n",
    "        # Find intersection of chars in these lines\n",
    "        item = set.intersection(*[set(l.strip()) for l in lines])\n",
    "\n",
    "        # Get character\n",
    "        assert len(item) == 1\n",
    "        item = item.pop()\n",
    "        \n",
    "        # Calculate priotrity\n",
    "        # Determine if lowercase\n",
    "        priority_total += ord(item) - ord(\"a\") + 1 if item.islower() else ord(item) - ord(\"A\") + 27\n",
    "\n",
    "priority_total\n"
   ]
  },
  {
   "cell_type": "code",
   "execution_count": 61,
   "metadata": {},
   "outputs": [
    {
     "name": "stdout",
     "output_type": "stream",
     "text": [
      "[<range_iterator object at 0x0000019636143A50>, <range_iterator object at 0x0000019636143A50>]\n",
      "[(0, 1), (2, 3)]\n",
      "[(0, 0), (1, 1), (2, 2), (3, 3), (4, 4)]\n"
     ]
    }
   ],
   "source": [
    "\"\"\"\n",
    "Source of this iteration method: https://python-forum.io/thread-12022.html\n",
    "The way it works:\n",
    "\n",
    "E.g. \n",
    "\n",
    "# Define an iterator\n",
    "a = range(6)\n",
    "\n",
    "# Create an iterator object that points to this\n",
    "# Note that if we don't do this, then subsequent steps will copy `a` instead of pointing to it,\n",
    "# which will mean that we iterator through n copies instead of n at a time!\n",
    "iter(a)\n",
    "\n",
    "# Duplicate this pointer to iterator n times\n",
    "[iter(a)] * n\n",
    "\n",
    "# Zip this so that we get a generator\n",
    "zip(* [iter(a)]*n)\n",
    "\n",
    "\"\"\"\n",
    "\n",
    "a = range(5)\n",
    "\n",
    "print([iter(a)] * 2)\n",
    "\n",
    "print(list(zip(*[iter(a)] * 2)))\n",
    "\n",
    "print(list(zip(*[(a)] * 2)))"
   ]
  }
 ],
 "metadata": {
  "kernelspec": {
   "display_name": "Python 3.10.7 64-bit",
   "language": "python",
   "name": "python3"
  },
  "language_info": {
   "codemirror_mode": {
    "name": "ipython",
    "version": 3
   },
   "file_extension": ".py",
   "mimetype": "text/x-python",
   "name": "python",
   "nbconvert_exporter": "python",
   "pygments_lexer": "ipython3",
   "version": "3.10.7"
  },
  "orig_nbformat": 4,
  "vscode": {
   "interpreter": {
    "hash": "26de051ba29f2982a8de78e945f0abaf191376122a1563185a90213a26c5da77"
   }
  }
 },
 "nbformat": 4,
 "nbformat_minor": 2
}
